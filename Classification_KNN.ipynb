{
  "nbformat": 4,
  "nbformat_minor": 0,
  "metadata": {
    "colab": {
      "provenance": [],
      "include_colab_link": true
    },
    "kernelspec": {
      "name": "python3",
      "display_name": "Python 3"
    },
    "language_info": {
      "name": "python"
    }
  },
  "cells": [
    {
      "cell_type": "markdown",
      "metadata": {
        "id": "view-in-github",
        "colab_type": "text"
      },
      "source": [
        "<a href=\"https://colab.research.google.com/github/TungSoPon/bsc_dpdm22/blob/main/Classification_KNN.ipynb\" target=\"_parent\"><img src=\"https://colab.research.google.com/assets/colab-badge.svg\" alt=\"Open In Colab\"/></a>"
      ]
    },
    {
      "cell_type": "code",
      "source": [
        "from sklearn.datasets import load_digits\n",
        "digits = load_digits()\n",
        "\n",
        "import matplotlib.pyplot as plt"
      ],
      "metadata": {
        "id": "7UxG6ioqVi61"
      },
      "execution_count": 36,
      "outputs": []
    },
    {
      "cell_type": "code",
      "source": [
        "digits"
      ],
      "metadata": {
        "colab": {
          "base_uri": "https://localhost:8080/"
        },
        "id": "5sLlhw40V-bO",
        "outputId": "e7eec841-5f7d-4f7d-cf92-eb3552fea3a3"
      },
      "execution_count": 37,
      "outputs": [
        {
          "output_type": "execute_result",
          "data": {
            "text/plain": [
              "{'data': array([[ 0.,  0.,  5., ...,  0.,  0.,  0.],\n",
              "        [ 0.,  0.,  0., ..., 10.,  0.,  0.],\n",
              "        [ 0.,  0.,  0., ..., 16.,  9.,  0.],\n",
              "        ...,\n",
              "        [ 0.,  0.,  1., ...,  6.,  0.,  0.],\n",
              "        [ 0.,  0.,  2., ..., 12.,  0.,  0.],\n",
              "        [ 0.,  0., 10., ..., 12.,  1.,  0.]]),\n",
              " 'target': array([0, 1, 2, ..., 8, 9, 8]),\n",
              " 'frame': None,\n",
              " 'feature_names': ['pixel_0_0',\n",
              "  'pixel_0_1',\n",
              "  'pixel_0_2',\n",
              "  'pixel_0_3',\n",
              "  'pixel_0_4',\n",
              "  'pixel_0_5',\n",
              "  'pixel_0_6',\n",
              "  'pixel_0_7',\n",
              "  'pixel_1_0',\n",
              "  'pixel_1_1',\n",
              "  'pixel_1_2',\n",
              "  'pixel_1_3',\n",
              "  'pixel_1_4',\n",
              "  'pixel_1_5',\n",
              "  'pixel_1_6',\n",
              "  'pixel_1_7',\n",
              "  'pixel_2_0',\n",
              "  'pixel_2_1',\n",
              "  'pixel_2_2',\n",
              "  'pixel_2_3',\n",
              "  'pixel_2_4',\n",
              "  'pixel_2_5',\n",
              "  'pixel_2_6',\n",
              "  'pixel_2_7',\n",
              "  'pixel_3_0',\n",
              "  'pixel_3_1',\n",
              "  'pixel_3_2',\n",
              "  'pixel_3_3',\n",
              "  'pixel_3_4',\n",
              "  'pixel_3_5',\n",
              "  'pixel_3_6',\n",
              "  'pixel_3_7',\n",
              "  'pixel_4_0',\n",
              "  'pixel_4_1',\n",
              "  'pixel_4_2',\n",
              "  'pixel_4_3',\n",
              "  'pixel_4_4',\n",
              "  'pixel_4_5',\n",
              "  'pixel_4_6',\n",
              "  'pixel_4_7',\n",
              "  'pixel_5_0',\n",
              "  'pixel_5_1',\n",
              "  'pixel_5_2',\n",
              "  'pixel_5_3',\n",
              "  'pixel_5_4',\n",
              "  'pixel_5_5',\n",
              "  'pixel_5_6',\n",
              "  'pixel_5_7',\n",
              "  'pixel_6_0',\n",
              "  'pixel_6_1',\n",
              "  'pixel_6_2',\n",
              "  'pixel_6_3',\n",
              "  'pixel_6_4',\n",
              "  'pixel_6_5',\n",
              "  'pixel_6_6',\n",
              "  'pixel_6_7',\n",
              "  'pixel_7_0',\n",
              "  'pixel_7_1',\n",
              "  'pixel_7_2',\n",
              "  'pixel_7_3',\n",
              "  'pixel_7_4',\n",
              "  'pixel_7_5',\n",
              "  'pixel_7_6',\n",
              "  'pixel_7_7'],\n",
              " 'target_names': array([0, 1, 2, 3, 4, 5, 6, 7, 8, 9]),\n",
              " 'images': array([[[ 0.,  0.,  5., ...,  1.,  0.,  0.],\n",
              "         [ 0.,  0., 13., ..., 15.,  5.,  0.],\n",
              "         [ 0.,  3., 15., ..., 11.,  8.,  0.],\n",
              "         ...,\n",
              "         [ 0.,  4., 11., ..., 12.,  7.,  0.],\n",
              "         [ 0.,  2., 14., ..., 12.,  0.,  0.],\n",
              "         [ 0.,  0.,  6., ...,  0.,  0.,  0.]],\n",
              " \n",
              "        [[ 0.,  0.,  0., ...,  5.,  0.,  0.],\n",
              "         [ 0.,  0.,  0., ...,  9.,  0.,  0.],\n",
              "         [ 0.,  0.,  3., ...,  6.,  0.,  0.],\n",
              "         ...,\n",
              "         [ 0.,  0.,  1., ...,  6.,  0.,  0.],\n",
              "         [ 0.,  0.,  1., ...,  6.,  0.,  0.],\n",
              "         [ 0.,  0.,  0., ..., 10.,  0.,  0.]],\n",
              " \n",
              "        [[ 0.,  0.,  0., ..., 12.,  0.,  0.],\n",
              "         [ 0.,  0.,  3., ..., 14.,  0.,  0.],\n",
              "         [ 0.,  0.,  8., ..., 16.,  0.,  0.],\n",
              "         ...,\n",
              "         [ 0.,  9., 16., ...,  0.,  0.,  0.],\n",
              "         [ 0.,  3., 13., ..., 11.,  5.,  0.],\n",
              "         [ 0.,  0.,  0., ..., 16.,  9.,  0.]],\n",
              " \n",
              "        ...,\n",
              " \n",
              "        [[ 0.,  0.,  1., ...,  1.,  0.,  0.],\n",
              "         [ 0.,  0., 13., ...,  2.,  1.,  0.],\n",
              "         [ 0.,  0., 16., ..., 16.,  5.,  0.],\n",
              "         ...,\n",
              "         [ 0.,  0., 16., ..., 15.,  0.,  0.],\n",
              "         [ 0.,  0., 15., ..., 16.,  0.,  0.],\n",
              "         [ 0.,  0.,  2., ...,  6.,  0.,  0.]],\n",
              " \n",
              "        [[ 0.,  0.,  2., ...,  0.,  0.,  0.],\n",
              "         [ 0.,  0., 14., ..., 15.,  1.,  0.],\n",
              "         [ 0.,  4., 16., ..., 16.,  7.,  0.],\n",
              "         ...,\n",
              "         [ 0.,  0.,  0., ..., 16.,  2.,  0.],\n",
              "         [ 0.,  0.,  4., ..., 16.,  2.,  0.],\n",
              "         [ 0.,  0.,  5., ..., 12.,  0.,  0.]],\n",
              " \n",
              "        [[ 0.,  0., 10., ...,  1.,  0.,  0.],\n",
              "         [ 0.,  2., 16., ...,  1.,  0.,  0.],\n",
              "         [ 0.,  0., 15., ..., 15.,  0.,  0.],\n",
              "         ...,\n",
              "         [ 0.,  4., 16., ..., 16.,  6.,  0.],\n",
              "         [ 0.,  8., 16., ..., 16.,  8.,  0.],\n",
              "         [ 0.,  1.,  8., ..., 12.,  1.,  0.]]]),\n",
              " 'DESCR': \".. _digits_dataset:\\n\\nOptical recognition of handwritten digits dataset\\n--------------------------------------------------\\n\\n**Data Set Characteristics:**\\n\\n    :Number of Instances: 1797\\n    :Number of Attributes: 64\\n    :Attribute Information: 8x8 image of integer pixels in the range 0..16.\\n    :Missing Attribute Values: None\\n    :Creator: E. Alpaydin (alpaydin '@' boun.edu.tr)\\n    :Date: July; 1998\\n\\nThis is a copy of the test set of the UCI ML hand-written digits datasets\\nhttps://archive.ics.uci.edu/ml/datasets/Optical+Recognition+of+Handwritten+Digits\\n\\nThe data set contains images of hand-written digits: 10 classes where\\neach class refers to a digit.\\n\\nPreprocessing programs made available by NIST were used to extract\\nnormalized bitmaps of handwritten digits from a preprinted form. From a\\ntotal of 43 people, 30 contributed to the training set and different 13\\nto the test set. 32x32 bitmaps are divided into nonoverlapping blocks of\\n4x4 and the number of on pixels are counted in each block. This generates\\nan input matrix of 8x8 where each element is an integer in the range\\n0..16. This reduces dimensionality and gives invariance to small\\ndistortions.\\n\\nFor info on NIST preprocessing routines, see M. D. Garris, J. L. Blue, G.\\nT. Candela, D. L. Dimmick, J. Geist, P. J. Grother, S. A. Janet, and C.\\nL. Wilson, NIST Form-Based Handprint Recognition System, NISTIR 5469,\\n1994.\\n\\n.. topic:: References\\n\\n  - C. Kaynak (1995) Methods of Combining Multiple Classifiers and Their\\n    Applications to Handwritten Digit Recognition, MSc Thesis, Institute of\\n    Graduate Studies in Science and Engineering, Bogazici University.\\n  - E. Alpaydin, C. Kaynak (1998) Cascading Classifiers, Kybernetika.\\n  - Ken Tang and Ponnuthurai N. Suganthan and Xi Yao and A. Kai Qin.\\n    Linear dimensionalityreduction using relevance weighted LDA. School of\\n    Electrical and Electronic Engineering Nanyang Technological University.\\n    2005.\\n  - Claudio Gentile. A New Approximate Maximal Margin Classification\\n    Algorithm. NIPS. 2000.\\n\"}"
            ]
          },
          "metadata": {},
          "execution_count": 37
        }
      ]
    },
    {
      "cell_type": "code",
      "source": [
        "ind = 28\n",
        "plt.gray()\n",
        "plt.matshow(digits.images[ind])\n",
        "print(digits.target[ind])"
      ],
      "metadata": {
        "colab": {
          "base_uri": "https://localhost:8080/",
          "height": 311
        },
        "id": "HghSIVprWYp2",
        "outputId": "9cdfeb99-d5eb-4bff-f24c-ece4cc85b5a3"
      },
      "execution_count": 38,
      "outputs": [
        {
          "output_type": "stream",
          "name": "stdout",
          "text": [
            "8\n"
          ]
        },
        {
          "output_type": "display_data",
          "data": {
            "text/plain": [
              "<Figure size 432x288 with 0 Axes>"
            ]
          },
          "metadata": {}
        },
        {
          "output_type": "display_data",
          "data": {
            "text/plain": [
              "<Figure size 288x288 with 1 Axes>"
            ],
            "image/png": "[encoded data removed]"
          },
          "metadata": {
            "needs_background": "light"
          }
        }
      ]
    },
    {
      "cell_type": "markdown",
      "source": [
        "# Quiz 3 march\n",
        "\n",
        "- แบ่ง data ออกเป็น 80%(train) 20%(test) โดยใช้ random_state = เลขกลุ่ม shuffle=True\n",
        "- หา parameters ที่ดีที่สุด (K (1,3,5), Distance_weighted(yes/no)) ด้วย 10-fold-cross-validation\n",
        "- test parameters ที่ดีที่สุด กับ test data\n"
      ],
      "metadata": {
        "id": "pzJYNjcWVTM1"
      }
    },
    {
      "cell_type": "code",
      "source": [
        "from sklearn.model_selection import train_test_split, cross_val_score"
      ],
      "metadata": {
        "id": "AB4KezX9ftOH"
      },
      "execution_count": 39,
      "outputs": []
    },
    {
      "cell_type": "code",
      "execution_count": 40,
      "metadata": {
        "id": "qCaJZ0ycU3ju"
      },
      "outputs": [],
      "source": [
        "X_train, X_test, y_train, y_test = train_test_split(digits.data, digits.target, test_size=0.2, random_state=8)\n"
      ]
    },
    {
      "cell_type": "code",
      "source": [
        "from sklearn.neighbors import KNeighborsClassifier"
      ],
      "metadata": {
        "id": "b7BXaKx9gw2b"
      },
      "execution_count": 41,
      "outputs": []
    },
    {
      "cell_type": "markdown",
      "source": [
        "## model selection"
      ],
      "metadata": {
        "id": "tl17Pt_EgSj4"
      }
    },
    {
      "cell_type": "code",
      "source": [
        "# model 1 (K=1, weighted)\n",
        "knn_distance = KNeighborsClassifier(n_neighbors=1, weights='distance')\n",
        "scores = cross_val_score(knn_distance, X_train, y_train, cv=10)\n",
        "print(\"Mean Cross-Validation Score: K1weighted\", scores.mean())\n",
        "\n",
        "# model 2 (K=3, weighted)\n",
        "knn_distance = KNeighborsClassifier(n_neighbors=3, weights='distance')\n",
        "scores = cross_val_score(knn_distance, X_train, y_train, cv=10)\n",
        "print(\"Mean Cross-Validation Score: K3weighted\", scores.mean())\n",
        "\n",
        "# model 3 (K=5, weighted)\n",
        "knn_distance = KNeighborsClassifier(n_neighbors=5, weights='distance')\n",
        "scores = cross_val_score(knn_distance, X_train, y_train, cv=10)\n",
        "print(\"Mean Cross-Validation Score: K5weighted\", scores.mean())\n",
        "\n",
        "# model 4 (K=1, no weighted)\n",
        "knn_distance = KNeighborsClassifier(n_neighbors=1, weights='uniform')\n",
        "scores = cross_val_score(knn_distance, X_train, y_train, cv=10)\n",
        "print(\"Mean Cross-Validation Score: K1NOweighted\", scores.mean())\n",
        "\n",
        "# model 5 (K=3, no weighted)\n",
        "knn_distance = KNeighborsClassifier(n_neighbors=3, weights='uniform')\n",
        "scores = cross_val_score(knn_distance, X_train, y_train, cv=10)\n",
        "print(\"Mean Cross-Validation Score: K3NOweighted\", scores.mean())\n",
        "\n",
        "# model 6 (K=5, no weighted)\n",
        "knn_distance = KNeighborsClassifier(n_neighbors=5, weights='uniform')\n",
        "scores = cross_val_score(knn_distance, X_train, y_train, cv=10)\n",
        "print(\"Mean Cross-Validation Score: KNOweighted\", scores.mean())"
      ],
      "metadata": {
        "colab": {
          "base_uri": "https://localhost:8080/"
        },
        "id": "8VoSjrp9f__9",
        "outputId": "1b7d824a-17ba-4cbe-a845-da1f1b0a3671"
      },
      "execution_count": 42,
      "outputs": [
        {
          "output_type": "stream",
          "name": "stdout",
          "text": [
            "Mean Cross-Validation Score: K1weighted 0.9804972804972805\n",
            "Mean Cross-Validation Score: K3weighted 0.9867667055167055\n",
            "Mean Cross-Validation Score: K5weighted 0.98258547008547\n",
            "Mean Cross-Validation Score: K1NOweighted 0.9804972804972805\n",
            "Mean Cross-Validation Score: K3NOweighted 0.9867667055167055\n",
            "Mean Cross-Validation Score: KNOweighted 0.9832799145299145\n"
          ]
        }
      ]
    },
    {
      "cell_type": "markdown",
      "source": [
        "## Evaluate with test set"
      ],
      "metadata": {
        "id": "n8nB-MZciU_g"
      }
    },
    {
      "cell_type": "code",
      "source": [
        "knn_distance1 = KNeighborsClassifier(n_neighbors=1, weights='distance')\n",
        "\n",
        "knn_distance1.fit(X_train,y_train)\n",
        "\n",
        "yknn_pred1 = knn_distance1.predict(X_test)"
      ],
      "metadata": {
        "id": "i1bQ6YBW5FKq"
      },
      "execution_count": 43,
      "outputs": []
    },
    {
      "cell_type": "code",
      "source": [
        "knn_distance3 = KNeighborsClassifier(n_neighbors=3, weights='distance')\n",
        "\n",
        "knn_distance3.fit(X_train,y_train)\n",
        "\n",
        "yknn_pred3 = knn_distance3.predict(X_test)"
      ],
      "metadata": {
        "id": "5P78X13y5INM"
      },
      "execution_count": 44,
      "outputs": []
    },
    {
      "cell_type": "code",
      "source": [
        "knn_distance5 = KNeighborsClassifier(n_neighbors=5, weights='distance')\n",
        "\n",
        "knn_distance5.fit(X_train,y_train)\n",
        "\n",
        "yknn_pred5 = knn_distance5.predict(X_test)"
      ],
      "metadata": {
        "id": "boHyFbPzhMlJ"
      },
      "execution_count": 45,
      "outputs": []
    },
    {
      "cell_type": "code",
      "source": [
        "from sklearn.metrics import accuracy_score\n",
        "\n",
        "# สมมติว่า y_true และ y_pred เป็นป้ายกำกับจริงและคาดคะเนตามลำดับ\n",
        "accuracykkn1 = accuracy_score(y_test, yknn_pred1)\n",
        "\n",
        "# พิมพ์คะแนนความถูกต้อง\n",
        "print(\"Accuracy ,KNN score: \", accuracykkn1)"
      ],
      "metadata": {
        "id": "lj8uuue-5Q9b",
        "outputId": "33283e4b-15a1-47e0-e64b-5bb329f3c15d",
        "colab": {
          "base_uri": "https://localhost:8080/"
        }
      },
      "execution_count": 46,
      "outputs": [
        {
          "output_type": "stream",
          "name": "stdout",
          "text": [
            "Accuracy ,KNN score:  0.9916666666666667\n"
          ]
        }
      ]
    },
    {
      "cell_type": "code",
      "source": [
        "from sklearn.metrics import accuracy_score\n",
        "\n",
        "# Assume y_true and y_pred are the true and predicted labels, respectively\n",
        "accuracykkn3 = accuracy_score(y_test, yknn_pred3)\n",
        "\n",
        "# Print the accuracy score\n",
        "print(\"Accuracy ,KNN score: \", accuracykkn3)"
      ],
      "metadata": {
        "id": "-Povztzn5Qd1",
        "outputId": "3a12eaea-9034-41dd-d825-f16f06f8b036",
        "colab": {
          "base_uri": "https://localhost:8080/"
        }
      },
      "execution_count": 47,
      "outputs": [
        {
          "output_type": "stream",
          "name": "stdout",
          "text": [
            "Accuracy ,KNN score:  0.9888888888888889\n"
          ]
        }
      ]
    },
    {
      "cell_type": "code",
      "source": [
        "from sklearn.metrics import accuracy_score\n",
        "\n",
        "# Assume y_true and y_pred are the true and predicted labels, respectively\n",
        "accuracykkn5 = accuracy_score(y_test, yknn_pred5)\n",
        "\n",
        "# Print the accuracy score\n",
        "print(\"Accuracy ,KNN score: \", accuracykkn5)"
      ],
      "metadata": {
        "colab": {
          "base_uri": "https://localhost:8080/"
        },
        "id": "--UCUjh6i3G6",
        "outputId": "b101e232-f049-4c85-94db-b22df6d00e4d"
      },
      "execution_count": 48,
      "outputs": [
        {
          "output_type": "stream",
          "name": "stdout",
          "text": [
            "Accuracy ,KNN score:  0.9916666666666667\n"
          ]
        }
      ]
    },
    {
      "cell_type": "markdown",
      "source": [
        "# HW 7 \n",
        "หา โมเดลที่ดีที่สุด จาก DT,NaiveBayes,KNN,ANN โดย เปรียบเทียบ อย่างละสอง parameter sets "
      ],
      "metadata": {
        "id": "RdvtCd48x_Kt"
      }
    },
    {
      "cell_type": "markdown",
      "source": [
        "#DecisionTreeClassifier"
      ],
      "metadata": {
        "id": "V81HQaLW-yRU"
      }
    },
    {
      "cell_type": "code",
      "source": [
        "from sklearn.tree import DecisionTreeClassifier\n",
        "from sklearn.model_selection import cross_val_score, KFold"
      ],
      "metadata": {
        "id": "lYb51I28zWTF"
      },
      "execution_count": 49,
      "outputs": []
    },
    {
      "cell_type": "code",
      "source": [
        "model = DecisionTreeClassifier()\n",
        "#cv = KFold(3)\n",
        "\n",
        "# คำนวณคะแนนการตรวจสอบข้าม\n",
        "scores = cross_val_score(model, X_train, y_train)#, cv=cv)\n",
        "\n",
        "# Print the cross-validation scores\n",
        "#print(\"Cross-validation scores:\", scores)\n",
        "\n",
        "# Print the mean and standard deviation of the cross-validation scores\n",
        "print(\"Mean accuracy DecisionTree Score: %0.2f (+/- %0.2f)\" % (scores.mean(), scores.std() * 2))"
      ],
      "metadata": {
        "id": "6uRH13ad27Oi",
        "outputId": "ee3b826b-82a7-4d1a-c8cb-d4f837abc7b5",
        "colab": {
          "base_uri": "https://localhost:8080/"
        }
      },
      "execution_count": 50,
      "outputs": [
        {
          "output_type": "stream",
          "name": "stdout",
          "text": [
            "Mean accuracy DecisionTree Score: 0.84 (+/- 0.04)\n"
          ]
        }
      ]
    },
    {
      "cell_type": "code",
      "source": [
        "dtc = DecisionTreeClassifier()\n",
        "\n",
        "dtc.fit(X_train, y_train)\n",
        "\n",
        "yDT_pred = dtc.predict(X_test)"
      ],
      "metadata": {
        "id": "dpqH11Vv9Usr"
      },
      "execution_count": 51,
      "outputs": []
    },
    {
      "cell_type": "code",
      "source": [
        "accuracyDT = accuracy_score(y_test, yDT_pred)\n",
        "\n",
        "print(\"Accuracy DT score: \", accuracyDT)"
      ],
      "metadata": {
        "id": "1q2_AXVW9mh4",
        "outputId": "a6a852f4-6567-4e08-d4b0-b42a2d86d2f9",
        "colab": {
          "base_uri": "https://localhost:8080/"
        }
      },
      "execution_count": 52,
      "outputs": [
        {
          "output_type": "stream",
          "name": "stdout",
          "text": [
            "Accuracy DT score:  0.8444444444444444\n"
          ]
        }
      ]
    },
    {
      "cell_type": "markdown",
      "source": [
        "#naive"
      ],
      "metadata": {
        "id": "fCH4sN-l-xy_"
      }
    },
    {
      "cell_type": "code",
      "source": [
        "from sklearn.naive_bayes import GaussianNB"
      ],
      "metadata": {
        "id": "ctZZFIjz-2Y7"
      },
      "execution_count": 53,
      "outputs": []
    },
    {
      "cell_type": "code",
      "source": [
        "model = GaussianNB()\n",
        "model.fit(X_train, y_train)\n",
        "\n",
        "# คาดการณ์ข้อมูลการทดสอบ\n",
        "y_pred = model.predict(X_test)\n",
        "\n",
        "# ประเมินความถูกต้องของแบบจำลอง\n",
        "accuracy = accuracy_score(y_test, y_pred)\n",
        "print(\"Accuracy of Naive Bayes model:\", accuracy)"
      ],
      "metadata": {
        "id": "bWnAHCLj-x0F",
        "outputId": "524b4746-9a83-40a9-d7f9-6b12bd2ef76d",
        "colab": {
          "base_uri": "https://localhost:8080/"
        }
      },
      "execution_count": 54,
      "outputs": [
        {
          "output_type": "stream",
          "name": "stdout",
          "text": [
            "Accuracy of Naive Bayes model: 0.8194444444444444\n"
          ]
        }
      ]
    },
    {
      "cell_type": "markdown",
      "source": [
        "#ANN"
      ],
      "metadata": {
        "id": "NcmHH8VR_qrL"
      }
    },
    {
      "cell_type": "code",
      "source": [
        "from tensorflow.keras.models import Sequential\n",
        "from tensorflow.keras.layers import Dense\n",
        "from sklearn.model_selection import train_test_split\n",
        "from sklearn.datasets import load_iris\n",
        "\n",
        "# load the iris dataset\n",
        "iris = load_iris()\n",
        "\n",
        "# split the data into training and testing sets\n",
        "X_train, X_test, y_train, y_test = train_test_split(iris.data, iris.target, test_size=0.2, random_state=8)\n",
        "\n",
        "# create the ANN model\n",
        "model = Sequential()\n",
        "model.add(Dense(64, activation='relu', input_shape=(4,)))\n",
        "model.add(Dense(3, activation='softmax'))\n",
        "\n",
        "# รวบรวมโมเดล\n",
        "model.compile(loss='sparse_categorical_crossentropy', optimizer='adam', metrics=['accuracy'])\n",
        "\n",
        "# ฝึกโมเดล\n",
        "history = model.fit(X_train, y_train, epochs=100, batch_size=32, validation_data=(X_test, y_test))\n",
        "\n",
        "# ประเมินแบบจำลองในชุดทดสอบ\n",
        "score = model.evaluate(X_test, y_test, verbose=0)\n",
        "print('Test loss:', score[0])\n",
        "print('Test accuracy:', score[1])"
      ],
      "metadata": {
        "id": "B-3KbZ1SG3Jz",
        "outputId": "911a78d5-29ba-4e47-b254-4b3b8375f685",
        "colab": {
          "base_uri": "https://localhost:8080/"
        }
      },
      "execution_count": 57,
      "outputs": [
        {
          "output_type": "stream",
          "name": "stdout",
          "text": [
            "Epoch 1/100\n",
            "4/4 [==============================] - 1s 126ms/step - loss: 1.9371 - accuracy: 0.3417 - val_loss: 1.8412 - val_accuracy: 0.3000\n",
            "Epoch 2/100\n",
            "4/4 [==============================] - 0s 26ms/step - loss: 1.6637 - accuracy: 0.3417 - val_loss: 1.5796 - val_accuracy: 0.3000\n",
            "Epoch 3/100\n",
            "4/4 [==============================] - 0s 29ms/step - loss: 1.4438 - accuracy: 0.3417 - val_loss: 1.3584 - val_accuracy: 0.3000\n",
            "Epoch 4/100\n",
            "4/4 [==============================] - 0s 27ms/step - loss: 1.2574 - accuracy: 0.3417 - val_loss: 1.1866 - val_accuracy: 0.3000\n",
            "Epoch 5/100\n",
            "4/4 [==============================] - 0s 25ms/step - loss: 1.1119 - accuracy: 0.3417 - val_loss: 1.0655 - val_accuracy: 0.3000\n",
            "Epoch 6/100\n",
            "4/4 [==============================] - 0s 25ms/step - loss: 1.0272 - accuracy: 0.4000 - val_loss: 0.9887 - val_accuracy: 0.6333\n",
            "Epoch 7/100\n",
            "4/4 [==============================] - 0s 39ms/step - loss: 0.9685 - accuracy: 0.7333 - val_loss: 0.9460 - val_accuracy: 0.7000\n",
            "Epoch 8/100\n",
            "4/4 [==============================] - 0s 29ms/step - loss: 0.9485 - accuracy: 0.6500 - val_loss: 0.9206 - val_accuracy: 0.7000\n",
            "Epoch 9/100\n",
            "4/4 [==============================] - 0s 20ms/step - loss: 0.9245 - accuracy: 0.6500 - val_loss: 0.9003 - val_accuracy: 0.7000\n",
            "Epoch 10/100\n",
            "4/4 [==============================] - 0s 26ms/step - loss: 0.9071 - accuracy: 0.6583 - val_loss: 0.8805 - val_accuracy: 0.7000\n",
            "Epoch 11/100\n",
            "4/4 [==============================] - 0s 27ms/step - loss: 0.8863 - accuracy: 0.6583 - val_loss: 0.8604 - val_accuracy: 0.7000\n",
            "Epoch 12/100\n",
            "4/4 [==============================] - 0s 25ms/step - loss: 0.8639 - accuracy: 0.6583 - val_loss: 0.8413 - val_accuracy: 0.7000\n",
            "Epoch 13/100\n",
            "4/4 [==============================] - 0s 25ms/step - loss: 0.8416 - accuracy: 0.6583 - val_loss: 0.8235 - val_accuracy: 0.7000\n",
            "Epoch 14/100\n",
            "4/4 [==============================] - 0s 20ms/step - loss: 0.8210 - accuracy: 0.6583 - val_loss: 0.8064 - val_accuracy: 0.7000\n",
            "Epoch 15/100\n",
            "4/4 [==============================] - 0s 20ms/step - loss: 0.8025 - accuracy: 0.6667 - val_loss: 0.7902 - val_accuracy: 0.7000\n",
            "Epoch 16/100\n",
            "4/4 [==============================] - 0s 15ms/step - loss: 0.7853 - accuracy: 0.6833 - val_loss: 0.7745 - val_accuracy: 0.8667\n",
            "Epoch 17/100\n",
            "4/4 [==============================] - 0s 15ms/step - loss: 0.7683 - accuracy: 0.7500 - val_loss: 0.7578 - val_accuracy: 0.8333\n",
            "Epoch 18/100\n",
            "4/4 [==============================] - 0s 15ms/step - loss: 0.7522 - accuracy: 0.7750 - val_loss: 0.7427 - val_accuracy: 0.8667\n",
            "Epoch 19/100\n",
            "4/4 [==============================] - 0s 21ms/step - loss: 0.7368 - accuracy: 0.8083 - val_loss: 0.7278 - val_accuracy: 0.9000\n",
            "Epoch 20/100\n",
            "4/4 [==============================] - 0s 18ms/step - loss: 0.7207 - accuracy: 0.8000 - val_loss: 0.7117 - val_accuracy: 0.8667\n",
            "Epoch 21/100\n",
            "4/4 [==============================] - 0s 21ms/step - loss: 0.7063 - accuracy: 0.7750 - val_loss: 0.6962 - val_accuracy: 0.8667\n",
            "Epoch 22/100\n",
            "4/4 [==============================] - 0s 14ms/step - loss: 0.6914 - accuracy: 0.7667 - val_loss: 0.6822 - val_accuracy: 0.8667\n",
            "Epoch 23/100\n",
            "4/4 [==============================] - 0s 21ms/step - loss: 0.6778 - accuracy: 0.7750 - val_loss: 0.6688 - val_accuracy: 0.8667\n",
            "Epoch 24/100\n",
            "4/4 [==============================] - 0s 15ms/step - loss: 0.6650 - accuracy: 0.7917 - val_loss: 0.6572 - val_accuracy: 0.9000\n",
            "Epoch 25/100\n",
            "4/4 [==============================] - 0s 16ms/step - loss: 0.6514 - accuracy: 0.8500 - val_loss: 0.6446 - val_accuracy: 0.9000\n",
            "Epoch 26/100\n",
            "4/4 [==============================] - 0s 18ms/step - loss: 0.6394 - accuracy: 0.8250 - val_loss: 0.6313 - val_accuracy: 0.9000\n",
            "Epoch 27/100\n",
            "4/4 [==============================] - 0s 15ms/step - loss: 0.6273 - accuracy: 0.8250 - val_loss: 0.6197 - val_accuracy: 0.9000\n",
            "Epoch 28/100\n",
            "4/4 [==============================] - 0s 20ms/step - loss: 0.6148 - accuracy: 0.8167 - val_loss: 0.6075 - val_accuracy: 0.9000\n",
            "Epoch 29/100\n",
            "4/4 [==============================] - 0s 21ms/step - loss: 0.6031 - accuracy: 0.8167 - val_loss: 0.5947 - val_accuracy: 0.9000\n",
            "Epoch 30/100\n",
            "4/4 [==============================] - 0s 17ms/step - loss: 0.5891 - accuracy: 0.8417 - val_loss: 0.5789 - val_accuracy: 0.9000\n",
            "Epoch 31/100\n",
            "4/4 [==============================] - 0s 15ms/step - loss: 0.5732 - accuracy: 0.8750 - val_loss: 0.5695 - val_accuracy: 0.9667\n",
            "Epoch 32/100\n",
            "4/4 [==============================] - 0s 14ms/step - loss: 0.5635 - accuracy: 0.9333 - val_loss: 0.5617 - val_accuracy: 0.9667\n",
            "Epoch 33/100\n",
            "4/4 [==============================] - 0s 15ms/step - loss: 0.5533 - accuracy: 0.9583 - val_loss: 0.5513 - val_accuracy: 0.9667\n",
            "Epoch 34/100\n",
            "4/4 [==============================] - 0s 18ms/step - loss: 0.5436 - accuracy: 0.9500 - val_loss: 0.5412 - val_accuracy: 0.9667\n",
            "Epoch 35/100\n",
            "4/4 [==============================] - 0s 18ms/step - loss: 0.5344 - accuracy: 0.9000 - val_loss: 0.5295 - val_accuracy: 0.9333\n",
            "Epoch 36/100\n",
            "4/4 [==============================] - 0s 21ms/step - loss: 0.5254 - accuracy: 0.8750 - val_loss: 0.5202 - val_accuracy: 0.9333\n",
            "Epoch 37/100\n",
            "4/4 [==============================] - 0s 15ms/step - loss: 0.5169 - accuracy: 0.8750 - val_loss: 0.5121 - val_accuracy: 0.9333\n",
            "Epoch 38/100\n",
            "4/4 [==============================] - 0s 23ms/step - loss: 0.5087 - accuracy: 0.9000 - val_loss: 0.5044 - val_accuracy: 0.9333\n",
            "Epoch 39/100\n",
            "4/4 [==============================] - 0s 15ms/step - loss: 0.5004 - accuracy: 0.9000 - val_loss: 0.4973 - val_accuracy: 0.9333\n",
            "Epoch 40/100\n",
            "4/4 [==============================] - 0s 21ms/step - loss: 0.4928 - accuracy: 0.9083 - val_loss: 0.4911 - val_accuracy: 0.9667\n",
            "Epoch 41/100\n",
            "4/4 [==============================] - 0s 15ms/step - loss: 0.4854 - accuracy: 0.9583 - val_loss: 0.4842 - val_accuracy: 0.9667\n",
            "Epoch 42/100\n",
            "4/4 [==============================] - 0s 14ms/step - loss: 0.4785 - accuracy: 0.9500 - val_loss: 0.4775 - val_accuracy: 0.9667\n",
            "Epoch 43/100\n",
            "4/4 [==============================] - 0s 22ms/step - loss: 0.4710 - accuracy: 0.9583 - val_loss: 0.4698 - val_accuracy: 0.9667\n",
            "Epoch 44/100\n",
            "4/4 [==============================] - 0s 16ms/step - loss: 0.4644 - accuracy: 0.9500 - val_loss: 0.4633 - val_accuracy: 0.9667\n",
            "Epoch 45/100\n",
            "4/4 [==============================] - 0s 16ms/step - loss: 0.4580 - accuracy: 0.9333 - val_loss: 0.4558 - val_accuracy: 0.9667\n",
            "Epoch 46/100\n",
            "4/4 [==============================] - 0s 21ms/step - loss: 0.4539 - accuracy: 0.9417 - val_loss: 0.4518 - val_accuracy: 0.9667\n",
            "Epoch 47/100\n",
            "4/4 [==============================] - 0s 14ms/step - loss: 0.4451 - accuracy: 0.9583 - val_loss: 0.4449 - val_accuracy: 0.9667\n",
            "Epoch 48/100\n",
            "4/4 [==============================] - 0s 15ms/step - loss: 0.4404 - accuracy: 0.9417 - val_loss: 0.4377 - val_accuracy: 0.9667\n",
            "Epoch 49/100\n",
            "4/4 [==============================] - 0s 16ms/step - loss: 0.4338 - accuracy: 0.9500 - val_loss: 0.4337 - val_accuracy: 0.9667\n",
            "Epoch 50/100\n",
            "4/4 [==============================] - 0s 15ms/step - loss: 0.4278 - accuracy: 0.9667 - val_loss: 0.4288 - val_accuracy: 0.9667\n",
            "Epoch 51/100\n",
            "4/4 [==============================] - 0s 18ms/step - loss: 0.4220 - accuracy: 0.9667 - val_loss: 0.4241 - val_accuracy: 0.9667\n",
            "Epoch 52/100\n",
            "4/4 [==============================] - 0s 21ms/step - loss: 0.4165 - accuracy: 0.9667 - val_loss: 0.4190 - val_accuracy: 0.9667\n",
            "Epoch 53/100\n",
            "4/4 [==============================] - 0s 16ms/step - loss: 0.4113 - accuracy: 0.9667 - val_loss: 0.4136 - val_accuracy: 0.9667\n",
            "Epoch 54/100\n",
            "4/4 [==============================] - 0s 18ms/step - loss: 0.4083 - accuracy: 0.9583 - val_loss: 0.4067 - val_accuracy: 0.9667\n",
            "Epoch 55/100\n",
            "4/4 [==============================] - 0s 15ms/step - loss: 0.4012 - accuracy: 0.9667 - val_loss: 0.4025 - val_accuracy: 0.9667\n",
            "Epoch 56/100\n",
            "4/4 [==============================] - 0s 15ms/step - loss: 0.3965 - accuracy: 0.9667 - val_loss: 0.3980 - val_accuracy: 0.9667\n",
            "Epoch 57/100\n",
            "4/4 [==============================] - 0s 15ms/step - loss: 0.3910 - accuracy: 0.9667 - val_loss: 0.3940 - val_accuracy: 0.9667\n",
            "Epoch 58/100\n",
            "4/4 [==============================] - 0s 16ms/step - loss: 0.3868 - accuracy: 0.9667 - val_loss: 0.3915 - val_accuracy: 0.9333\n",
            "Epoch 59/100\n",
            "4/4 [==============================] - 0s 21ms/step - loss: 0.3820 - accuracy: 0.9750 - val_loss: 0.3877 - val_accuracy: 0.9333\n",
            "Epoch 60/100\n",
            "4/4 [==============================] - 0s 22ms/step - loss: 0.3774 - accuracy: 0.9750 - val_loss: 0.3821 - val_accuracy: 0.9667\n",
            "Epoch 61/100\n",
            "4/4 [==============================] - 0s 21ms/step - loss: 0.3735 - accuracy: 0.9750 - val_loss: 0.3751 - val_accuracy: 0.9667\n",
            "Epoch 62/100\n",
            "4/4 [==============================] - 0s 15ms/step - loss: 0.3684 - accuracy: 0.9667 - val_loss: 0.3709 - val_accuracy: 0.9667\n",
            "Epoch 63/100\n",
            "4/4 [==============================] - 0s 14ms/step - loss: 0.3640 - accuracy: 0.9667 - val_loss: 0.3684 - val_accuracy: 0.9667\n",
            "Epoch 64/100\n",
            "4/4 [==============================] - 0s 17ms/step - loss: 0.3594 - accuracy: 0.9750 - val_loss: 0.3656 - val_accuracy: 0.9333\n",
            "Epoch 65/100\n",
            "4/4 [==============================] - 0s 21ms/step - loss: 0.3563 - accuracy: 0.9750 - val_loss: 0.3607 - val_accuracy: 0.9667\n",
            "Epoch 66/100\n",
            "4/4 [==============================] - 0s 18ms/step - loss: 0.3519 - accuracy: 0.9667 - val_loss: 0.3598 - val_accuracy: 0.9333\n",
            "Epoch 67/100\n",
            "4/4 [==============================] - 0s 21ms/step - loss: 0.3475 - accuracy: 0.9667 - val_loss: 0.3554 - val_accuracy: 0.9333\n",
            "Epoch 68/100\n",
            "4/4 [==============================] - 0s 16ms/step - loss: 0.3447 - accuracy: 0.9750 - val_loss: 0.3481 - val_accuracy: 0.9667\n",
            "Epoch 69/100\n",
            "4/4 [==============================] - 0s 15ms/step - loss: 0.3397 - accuracy: 0.9750 - val_loss: 0.3452 - val_accuracy: 0.9667\n",
            "Epoch 70/100\n",
            "4/4 [==============================] - 0s 17ms/step - loss: 0.3358 - accuracy: 0.9750 - val_loss: 0.3426 - val_accuracy: 0.9333\n",
            "Epoch 71/100\n",
            "4/4 [==============================] - 0s 16ms/step - loss: 0.3318 - accuracy: 0.9750 - val_loss: 0.3407 - val_accuracy: 0.9333\n",
            "Epoch 72/100\n",
            "4/4 [==============================] - 0s 17ms/step - loss: 0.3288 - accuracy: 0.9667 - val_loss: 0.3374 - val_accuracy: 0.9333\n",
            "Epoch 73/100\n",
            "4/4 [==============================] - 0s 15ms/step - loss: 0.3242 - accuracy: 0.9667 - val_loss: 0.3330 - val_accuracy: 0.9333\n",
            "Epoch 74/100\n",
            "4/4 [==============================] - 0s 15ms/step - loss: 0.3207 - accuracy: 0.9750 - val_loss: 0.3281 - val_accuracy: 0.9667\n",
            "Epoch 75/100\n",
            "4/4 [==============================] - 0s 23ms/step - loss: 0.3170 - accuracy: 0.9750 - val_loss: 0.3248 - val_accuracy: 0.9333\n",
            "Epoch 76/100\n",
            "4/4 [==============================] - 0s 22ms/step - loss: 0.3135 - accuracy: 0.9750 - val_loss: 0.3224 - val_accuracy: 0.9333\n",
            "Epoch 77/100\n",
            "4/4 [==============================] - 0s 21ms/step - loss: 0.3098 - accuracy: 0.9750 - val_loss: 0.3198 - val_accuracy: 0.9333\n",
            "Epoch 78/100\n",
            "4/4 [==============================] - 0s 18ms/step - loss: 0.3068 - accuracy: 0.9750 - val_loss: 0.3179 - val_accuracy: 0.9333\n",
            "Epoch 79/100\n",
            "4/4 [==============================] - 0s 21ms/step - loss: 0.3032 - accuracy: 0.9750 - val_loss: 0.3127 - val_accuracy: 0.9333\n",
            "Epoch 80/100\n",
            "4/4 [==============================] - 0s 22ms/step - loss: 0.3005 - accuracy: 0.9667 - val_loss: 0.3101 - val_accuracy: 0.9333\n",
            "Epoch 81/100\n",
            "4/4 [==============================] - 0s 23ms/step - loss: 0.2967 - accuracy: 0.9750 - val_loss: 0.3053 - val_accuracy: 0.9333\n",
            "Epoch 82/100\n",
            "4/4 [==============================] - 0s 22ms/step - loss: 0.2932 - accuracy: 0.9750 - val_loss: 0.3013 - val_accuracy: 0.9667\n",
            "Epoch 83/100\n",
            "4/4 [==============================] - 0s 15ms/step - loss: 0.2910 - accuracy: 0.9750 - val_loss: 0.2974 - val_accuracy: 0.9667\n",
            "Epoch 84/100\n",
            "4/4 [==============================] - 0s 14ms/step - loss: 0.2874 - accuracy: 0.9750 - val_loss: 0.2956 - val_accuracy: 0.9667\n",
            "Epoch 85/100\n",
            "4/4 [==============================] - 0s 22ms/step - loss: 0.2833 - accuracy: 0.9667 - val_loss: 0.2973 - val_accuracy: 0.9333\n",
            "Epoch 86/100\n",
            "4/4 [==============================] - 0s 14ms/step - loss: 0.2810 - accuracy: 0.9750 - val_loss: 0.2973 - val_accuracy: 0.9333\n",
            "Epoch 87/100\n",
            "4/4 [==============================] - 0s 15ms/step - loss: 0.2811 - accuracy: 0.9750 - val_loss: 0.2968 - val_accuracy: 0.9333\n",
            "Epoch 88/100\n",
            "4/4 [==============================] - 0s 15ms/step - loss: 0.2768 - accuracy: 0.9750 - val_loss: 0.2852 - val_accuracy: 0.9333\n",
            "Epoch 89/100\n",
            "4/4 [==============================] - 0s 15ms/step - loss: 0.2725 - accuracy: 0.9750 - val_loss: 0.2806 - val_accuracy: 0.9667\n",
            "Epoch 90/100\n",
            "4/4 [==============================] - 0s 15ms/step - loss: 0.2698 - accuracy: 0.9750 - val_loss: 0.2786 - val_accuracy: 0.9667\n",
            "Epoch 91/100\n",
            "4/4 [==============================] - 0s 14ms/step - loss: 0.2669 - accuracy: 0.9750 - val_loss: 0.2805 - val_accuracy: 0.9333\n",
            "Epoch 92/100\n",
            "4/4 [==============================] - 0s 15ms/step - loss: 0.2638 - accuracy: 0.9750 - val_loss: 0.2810 - val_accuracy: 0.9333\n",
            "Epoch 93/100\n",
            "4/4 [==============================] - 0s 15ms/step - loss: 0.2614 - accuracy: 0.9750 - val_loss: 0.2776 - val_accuracy: 0.9333\n",
            "Epoch 94/100\n",
            "4/4 [==============================] - 0s 20ms/step - loss: 0.2580 - accuracy: 0.9750 - val_loss: 0.2717 - val_accuracy: 0.9333\n",
            "Epoch 95/100\n",
            "4/4 [==============================] - 0s 22ms/step - loss: 0.2549 - accuracy: 0.9750 - val_loss: 0.2676 - val_accuracy: 0.9333\n",
            "Epoch 96/100\n",
            "4/4 [==============================] - 0s 21ms/step - loss: 0.2529 - accuracy: 0.9750 - val_loss: 0.2647 - val_accuracy: 0.9333\n",
            "Epoch 97/100\n",
            "4/4 [==============================] - 0s 21ms/step - loss: 0.2502 - accuracy: 0.9750 - val_loss: 0.2621 - val_accuracy: 0.9333\n",
            "Epoch 98/100\n",
            "4/4 [==============================] - 0s 22ms/step - loss: 0.2494 - accuracy: 0.9750 - val_loss: 0.2626 - val_accuracy: 0.9333\n",
            "Epoch 99/100\n",
            "4/4 [==============================] - 0s 21ms/step - loss: 0.2462 - accuracy: 0.9750 - val_loss: 0.2581 - val_accuracy: 0.9333\n",
            "Epoch 100/100\n",
            "4/4 [==============================] - 0s 21ms/step - loss: 0.2423 - accuracy: 0.9750 - val_loss: 0.2577 - val_accuracy: 0.9333\n",
            "Test loss: 0.2576727271080017\n",
            "Test accuracy: 0.9333333373069763\n"
          ]
        }
      ]
    },
    {
      "cell_type": "markdown",
      "source": [
        "##วิธีที่ดีที่สุดKNN"
      ],
      "metadata": {
        "id": "QCPIxW9dH2Yg"
      }
    }
  ]
}